{
  "nbformat": 4,
  "nbformat_minor": 0,
  "metadata": {
    "colab": {
      "name": "Assignment 3 (Final)",
      "version": "0.3.2",
      "provenance": [],
      "collapsed_sections": []
    },
    "kernelspec": {
      "name": "python3",
      "display_name": "Python 3"
    },
    "accelerator": "GPU"
  },
  "cells": [
    {
      "cell_type": "code",
      "metadata": {
        "id": "lqPZeHlfjHqe",
        "colab_type": "code",
        "outputId": "c1d120bd-643c-4eb8-d572-072a5f6f7f32",
        "colab": {
          "base_uri": "https://localhost:8080/",
          "height": 34
        }
      },
      "source": [
        "import csv \n",
        "import pandas as pd\n",
        "import numpy as np\n",
        "from sklearn.feature_extraction.text import TfidfVectorizer, CountVectorizer\n",
        "from sklearn.feature_extraction.stop_words import ENGLISH_STOP_WORDS\n",
        "from sklearn import metrics\n",
        "from sklearn.model_selection import train_test_split\n",
        "import matplotlib.pyplot as plt\n",
        "from sklearn.model_selection import cross_val_score\n",
        "import keras\n",
        "import seaborn as sns\n",
        "sns.set(color_codes=True)"
      ],
      "execution_count": 1,
      "outputs": [
        {
          "output_type": "stream",
          "text": [
            "Using TensorFlow backend.\n"
          ],
          "name": "stderr"
        }
      ]
    },
    {
      "cell_type": "code",
      "metadata": {
        "id": "j5UiVc5Gkf4k",
        "colab_type": "code",
        "colab": {}
      },
      "source": [
        "URL_tr = \"https://raw.githubusercontent.com/cacoderquan/Sentiment-Analysis-on-the-Rotten-Tomatoes-movie-review-dataset/master/train.tsv\""
      ],
      "execution_count": 0,
      "outputs": []
    },
    {
      "cell_type": "code",
      "metadata": {
        "id": "NprhOfejk4rG",
        "colab_type": "code",
        "colab": {}
      },
      "source": [
        "data = pd.read_csv(URL_tr, sep = '\\t')"
      ],
      "execution_count": 0,
      "outputs": []
    },
    {
      "cell_type": "code",
      "metadata": {
        "id": "wN6qP49MlUnN",
        "colab_type": "code",
        "outputId": "d580835c-9301-4bf7-e5cb-6793e6c88065",
        "colab": {
          "base_uri": "https://localhost:8080/",
          "height": 787
        }
      },
      "source": [
        "#create df of full sentences\n",
        "fullSent= data.loc[data.groupby('SentenceId')['PhraseId'].idxmin()]\n",
        "fullSent.head(25)"
      ],
      "execution_count": 4,
      "outputs": [
        {
          "output_type": "execute_result",
          "data": {
            "text/html": [
              "<div>\n",
              "<style scoped>\n",
              "    .dataframe tbody tr th:only-of-type {\n",
              "        vertical-align: middle;\n",
              "    }\n",
              "\n",
              "    .dataframe tbody tr th {\n",
              "        vertical-align: top;\n",
              "    }\n",
              "\n",
              "    .dataframe thead th {\n",
              "        text-align: right;\n",
              "    }\n",
              "</style>\n",
              "<table border=\"1\" class=\"dataframe\">\n",
              "  <thead>\n",
              "    <tr style=\"text-align: right;\">\n",
              "      <th></th>\n",
              "      <th>PhraseId</th>\n",
              "      <th>SentenceId</th>\n",
              "      <th>Phrase</th>\n",
              "      <th>Sentiment</th>\n",
              "    </tr>\n",
              "  </thead>\n",
              "  <tbody>\n",
              "    <tr>\n",
              "      <th>0</th>\n",
              "      <td>1</td>\n",
              "      <td>1</td>\n",
              "      <td>A series of escapades demonstrating the adage ...</td>\n",
              "      <td>1</td>\n",
              "    </tr>\n",
              "    <tr>\n",
              "      <th>63</th>\n",
              "      <td>64</td>\n",
              "      <td>2</td>\n",
              "      <td>This quiet , introspective and entertaining in...</td>\n",
              "      <td>4</td>\n",
              "    </tr>\n",
              "    <tr>\n",
              "      <th>81</th>\n",
              "      <td>82</td>\n",
              "      <td>3</td>\n",
              "      <td>Even fans of Ismail Merchant 's work , I suspe...</td>\n",
              "      <td>1</td>\n",
              "    </tr>\n",
              "    <tr>\n",
              "      <th>116</th>\n",
              "      <td>117</td>\n",
              "      <td>4</td>\n",
              "      <td>A positively thrilling combination of ethnogra...</td>\n",
              "      <td>3</td>\n",
              "    </tr>\n",
              "    <tr>\n",
              "      <th>156</th>\n",
              "      <td>157</td>\n",
              "      <td>5</td>\n",
              "      <td>Aggressive self-glorification and a manipulati...</td>\n",
              "      <td>1</td>\n",
              "    </tr>\n",
              "    <tr>\n",
              "      <th>166</th>\n",
              "      <td>167</td>\n",
              "      <td>6</td>\n",
              "      <td>A comedy-drama of nearly epic proportions root...</td>\n",
              "      <td>4</td>\n",
              "    </tr>\n",
              "    <tr>\n",
              "      <th>198</th>\n",
              "      <td>199</td>\n",
              "      <td>7</td>\n",
              "      <td>Narratively , Trouble Every Day is a plodding ...</td>\n",
              "      <td>1</td>\n",
              "    </tr>\n",
              "    <tr>\n",
              "      <th>213</th>\n",
              "      <td>214</td>\n",
              "      <td>8</td>\n",
              "      <td>The Importance of Being Earnest , so thick wit...</td>\n",
              "      <td>3</td>\n",
              "    </tr>\n",
              "    <tr>\n",
              "      <th>247</th>\n",
              "      <td>248</td>\n",
              "      <td>9</td>\n",
              "      <td>But it does n't leave you with much .</td>\n",
              "      <td>1</td>\n",
              "    </tr>\n",
              "    <tr>\n",
              "      <th>259</th>\n",
              "      <td>260</td>\n",
              "      <td>10</td>\n",
              "      <td>You could hate it for the same reason .</td>\n",
              "      <td>1</td>\n",
              "    </tr>\n",
              "    <tr>\n",
              "      <th>271</th>\n",
              "      <td>272</td>\n",
              "      <td>11</td>\n",
              "      <td>There 's little to recommend Snow Dogs , unles...</td>\n",
              "      <td>1</td>\n",
              "    </tr>\n",
              "    <tr>\n",
              "      <th>306</th>\n",
              "      <td>307</td>\n",
              "      <td>12</td>\n",
              "      <td>Kung Pow is Oedekerk 's realization of his chi...</td>\n",
              "      <td>1</td>\n",
              "    </tr>\n",
              "    <tr>\n",
              "      <th>352</th>\n",
              "      <td>353</td>\n",
              "      <td>13</td>\n",
              "      <td>The performances are an absolute joy .</td>\n",
              "      <td>4</td>\n",
              "    </tr>\n",
              "    <tr>\n",
              "      <th>363</th>\n",
              "      <td>364</td>\n",
              "      <td>14</td>\n",
              "      <td>Fresnadillo has something serious to say about...</td>\n",
              "      <td>3</td>\n",
              "    </tr>\n",
              "    <tr>\n",
              "      <th>407</th>\n",
              "      <td>408</td>\n",
              "      <td>15</td>\n",
              "      <td>I still like Moonlight Mile , better judgment ...</td>\n",
              "      <td>3</td>\n",
              "    </tr>\n",
              "    <tr>\n",
              "      <th>423</th>\n",
              "      <td>424</td>\n",
              "      <td>16</td>\n",
              "      <td>A welcome relief from baseball movies that try...</td>\n",
              "      <td>3</td>\n",
              "    </tr>\n",
              "    <tr>\n",
              "      <th>458</th>\n",
              "      <td>459</td>\n",
              "      <td>17</td>\n",
              "      <td>a bilingual charmer , just like the woman who ...</td>\n",
              "      <td>3</td>\n",
              "    </tr>\n",
              "    <tr>\n",
              "      <th>473</th>\n",
              "      <td>474</td>\n",
              "      <td>18</td>\n",
              "      <td>Like a less dizzily gorgeous companion to Mr. ...</td>\n",
              "      <td>2</td>\n",
              "    </tr>\n",
              "    <tr>\n",
              "      <th>516</th>\n",
              "      <td>517</td>\n",
              "      <td>19</td>\n",
              "      <td>As inept as big-screen remakes of The Avengers...</td>\n",
              "      <td>1</td>\n",
              "    </tr>\n",
              "    <tr>\n",
              "      <th>536</th>\n",
              "      <td>537</td>\n",
              "      <td>20</td>\n",
              "      <td>It 's everything you 'd expect -- but nothing ...</td>\n",
              "      <td>2</td>\n",
              "    </tr>\n",
              "    <tr>\n",
              "      <th>551</th>\n",
              "      <td>552</td>\n",
              "      <td>21</td>\n",
              "      <td>Best indie of the year , so far .</td>\n",
              "      <td>4</td>\n",
              "    </tr>\n",
              "    <tr>\n",
              "      <th>563</th>\n",
              "      <td>564</td>\n",
              "      <td>22</td>\n",
              "      <td>Hatfield and Hicks make the oddest of couples ...</td>\n",
              "      <td>3</td>\n",
              "    </tr>\n",
              "    <tr>\n",
              "      <th>619</th>\n",
              "      <td>620</td>\n",
              "      <td>23</td>\n",
              "      <td>It 's like going to a house party and watching...</td>\n",
              "      <td>1</td>\n",
              "    </tr>\n",
              "    <tr>\n",
              "      <th>647</th>\n",
              "      <td>648</td>\n",
              "      <td>24</td>\n",
              "      <td>That the Chuck Norris `` grenade gag '' occurs...</td>\n",
              "      <td>2</td>\n",
              "    </tr>\n",
              "    <tr>\n",
              "      <th>686</th>\n",
              "      <td>687</td>\n",
              "      <td>25</td>\n",
              "      <td>The plot is romantic comedy boilerplate from s...</td>\n",
              "      <td>2</td>\n",
              "    </tr>\n",
              "  </tbody>\n",
              "</table>\n",
              "</div>"
            ],
            "text/plain": [
              "     PhraseId  ...  Sentiment\n",
              "0           1  ...          1\n",
              "63         64  ...          4\n",
              "81         82  ...          1\n",
              "116       117  ...          3\n",
              "156       157  ...          1\n",
              "166       167  ...          4\n",
              "198       199  ...          1\n",
              "213       214  ...          3\n",
              "247       248  ...          1\n",
              "259       260  ...          1\n",
              "271       272  ...          1\n",
              "306       307  ...          1\n",
              "352       353  ...          4\n",
              "363       364  ...          3\n",
              "407       408  ...          3\n",
              "423       424  ...          3\n",
              "458       459  ...          3\n",
              "473       474  ...          2\n",
              "516       517  ...          1\n",
              "536       537  ...          2\n",
              "551       552  ...          4\n",
              "563       564  ...          3\n",
              "619       620  ...          1\n",
              "647       648  ...          2\n",
              "686       687  ...          2\n",
              "\n",
              "[25 rows x 4 columns]"
            ]
          },
          "metadata": {
            "tags": []
          },
          "execution_count": 4
        }
      ]
    },
    {
      "cell_type": "code",
      "metadata": {
        "id": "eMR3VETAtT74",
        "colab_type": "code",
        "outputId": "7a48ed96-1077-4145-a3ab-85228391d094",
        "colab": {
          "base_uri": "https://localhost:8080/",
          "height": 508
        }
      },
      "source": [
        "dist = data.groupby([\"Sentiment\"]).size()\n",
        "fig, ax = plt.subplots(figsize=(12,8))\n",
        "sns.barplot(dist.keys(), dist.values);"
      ],
      "execution_count": 5,
      "outputs": [
        {
          "output_type": "display_data",
          "data": {
            "image/png": "[encoded data removed]",
            "text/plain": [
              "<Figure size 864x576 with 1 Axes>"
            ]
          },
          "metadata": {
            "tags": []
          }
        }
      ]
    },
    {
      "cell_type": "code",
      "metadata": {
        "id": "pLj_HD0cm8Cb",
        "colab_type": "code",
        "outputId": "72e8b5c1-1fce-41f4-d5bd-b72fec55fbe2",
        "colab": {
          "base_uri": "https://localhost:8080/",
          "height": 34
        }
      },
      "source": [
        "#number of unique sentences in the training dataset\n",
        "print (len(data.groupby('SentenceId').nunique()))"
      ],
      "execution_count": 6,
      "outputs": [
        {
          "output_type": "stream",
          "text": [
            "8529\n"
          ],
          "name": "stdout"
        }
      ]
    },
    {
      "cell_type": "code",
      "metadata": {
        "id": "Cc243mN-ysvg",
        "colab_type": "code",
        "colab": {}
      },
      "source": [
        "#Releasing unwanted variables\n",
        "URL_tr = []"
      ],
      "execution_count": 0,
      "outputs": []
    },
    {
      "cell_type": "code",
      "metadata": {
        "id": "TrYVi_laa8ys",
        "colab_type": "code",
        "colab": {}
      },
      "source": [
        "phrase = fullSent['Phrase']\n",
        "sentiment = fullSent['Sentiment']"
      ],
      "execution_count": 0,
      "outputs": []
    },
    {
      "cell_type": "code",
      "metadata": {
        "id": "-oTR6MTcakOp",
        "colab_type": "code",
        "outputId": "e6652f98-c3d9-4b24-e728-a7ab042f8ba2",
        "colab": {
          "base_uri": "https://localhost:8080/",
          "height": 50
        }
      },
      "source": [
        "#Data Cleaning or Preprocessing\n",
        "import re\n",
        "import nltk\n",
        "nltk.download('stopwords')\n",
        "from nltk.corpus import stopwords                   \n",
        "from nltk.stem import PorterStemmer \n",
        "temp =[]\n",
        "snow = nltk.stem.SnowballStemmer('english')\n",
        "for sentence in phrase:\n",
        "    sentence = sentence.lower() #Lowercase Conversion\n",
        "    cleanr = re.compile('<.*?>')\n",
        "    sentence = re.sub(cleanr, ' ', sentence) #Removing HTML Tags\n",
        "    sentence = re.sub(r'[?|!|\\'|\"|#]',r'',sentence)\n",
        "    sentence = re.sub(r'[.|,|)|(|\\|/]',r' ',sentence) #Removing Punctuations\n",
        "    \n",
        "    #Removing Stop Words & Stemming\n",
        "    words = [snow.stem(word) for word in sentence.split() if word not in stopwords.words('english')] \n",
        "    temp.append(words)\n",
        "    \n",
        "phrase = temp    "
      ],
      "execution_count": 9,
      "outputs": [
        {
          "output_type": "stream",
          "text": [
            "[nltk_data] Downloading package stopwords to /root/nltk_data...\n",
            "[nltk_data]   Package stopwords is already up-to-date!\n"
          ],
          "name": "stdout"
        }
      ]
    },
    {
      "cell_type": "code",
      "metadata": {
        "id": "xB9X5VocawMf",
        "colab_type": "code",
        "outputId": "7db3a5c4-a619-4b22-b86c-3af01bbf7801",
        "colab": {
          "base_uri": "https://localhost:8080/",
          "height": 34
        }
      },
      "source": [
        "print(phrase[1])"
      ],
      "execution_count": 10,
      "outputs": [
        {
          "output_type": "stream",
          "text": [
            "['quiet', 'introspect', 'entertain', 'independ', 'worth', 'seek']\n"
          ],
          "name": "stdout"
        }
      ]
    },
    {
      "cell_type": "code",
      "metadata": {
        "id": "VQbt9qIla0Dy",
        "colab_type": "code",
        "outputId": "ead44904-fbd5-4935-c8f6-7e6dfcec689e",
        "colab": {
          "base_uri": "https://localhost:8080/",
          "height": 34
        }
      },
      "source": [
        "sent = []\n",
        "for row in phrase:\n",
        "    sequ = ''\n",
        "    for word in row:\n",
        "        sequ = sequ + ' ' + word\n",
        "    sent.append(sequ)\n",
        "\n",
        "phrase = sent\n",
        "print(phrase[1])"
      ],
      "execution_count": 11,
      "outputs": [
        {
          "output_type": "stream",
          "text": [
            " quiet introspect entertain independ worth seek\n"
          ],
          "name": "stdout"
        }
      ]
    },
    {
      "cell_type": "code",
      "metadata": {
        "id": "U3MSueteoyc-",
        "colab_type": "code",
        "outputId": "c9a96d2f-b9a7-4462-e672-24605793b573",
        "colab": {
          "base_uri": "https://localhost:8080/",
          "height": 34
        }
      },
      "source": [
        "print(phrase[0], sentiment[0])\n",
        "\n",
        "#Splitting into training and testing sets\n",
        "X_train,X_test,Y_train,Y_test = train_test_split(phrase, sentiment, test_size=0.2,random_state=4)\n",
        "                                               \n",
        "\n"
      ],
      "execution_count": 12,
      "outputs": [
        {
          "output_type": "stream",
          "text": [
            " seri escapad demonstr adag good goos also good gander occasion amus none amount much stori 1\n"
          ],
          "name": "stdout"
        }
      ]
    },
    {
      "cell_type": "code",
      "metadata": {
        "id": "Jyl2S3AuAMLr",
        "colab_type": "code",
        "outputId": "9bfe6a83-04ad-41b6-f5dd-ef7945644fe3",
        "colab": {
          "base_uri": "https://localhost:8080/",
          "height": 134
        }
      },
      "source": [
        "#TF-IDF Feature Extraction Method\n",
        "tfidf_vectorizer = TfidfVectorizer(min_df=5,\n",
        "                                 max_df=5,\n",
        "                                  analyzer='word',\n",
        "                                  strip_accents='unicode',\n",
        "                                  ngram_range=(1,3),\n",
        "                                  sublinear_tf=True,\n",
        "                                  smooth_idf=True,\n",
        "                                  use_idf=True,\n",
        "                                  stop_words=None)\n",
        "tfidf_vectorizer.fit(list(fullSent['Phrase']))"
      ],
      "execution_count": 14,
      "outputs": [
        {
          "output_type": "execute_result",
          "data": {
            "text/plain": [
              "TfidfVectorizer(analyzer='word', binary=False, decode_error='strict',\n",
              "                dtype=<class 'numpy.float64'>, encoding='utf-8',\n",
              "                input='content', lowercase=True, max_df=5, max_features=None,\n",
              "                min_df=5, ngram_range=(1, 3), norm='l2', preprocessor=None,\n",
              "                smooth_idf=True, stop_words=None, strip_accents='unicode',\n",
              "                sublinear_tf=True, token_pattern='(?u)\\\\b\\\\w\\\\w+\\\\b',\n",
              "                tokenizer=None, use_idf=True, vocabulary=None)"
            ]
          },
          "metadata": {
            "tags": []
          },
          "execution_count": 14
        }
      ]
    },
    {
      "cell_type": "code",
      "metadata": {
        "id": "Lop4SQNbAST6",
        "colab_type": "code",
        "outputId": "a7fbaa87-2b8c-4885-e088-2392da16a9a6",
        "colab": {
          "base_uri": "https://localhost:8080/",
          "height": 50
        }
      },
      "source": [
        "train_tfidf = tfidf_vectorizer.transform(X_train)\n",
        "test_tfidf = tfidf_vectorizer.transform(X_train)\n",
        "print(train_tfidf.shape)\n",
        "print(test_tfidf.shape)\n"
      ],
      "execution_count": 15,
      "outputs": [
        {
          "output_type": "stream",
          "text": [
            "(6823, 1481)\n",
            "(6823, 1481)\n"
          ],
          "name": "stdout"
        }
      ]
    },
    {
      "cell_type": "code",
      "metadata": {
        "id": "o1Cenqz6AVPV",
        "colab_type": "code",
        "colab": {}
      },
      "source": [
        "rX_train  = train_tfidf.toarray()\n",
        "X_train = rX_train.reshape((rX_train.shape[0],rX_train.shape[1],1))\n",
        "print(X_train.shape)\n",
        "\n",
        "rX_test  = test_tfidf.toarray()\n",
        "X_test = rX_test.reshape((rX_test.shape[0],rX_test.shape[1],1))\n",
        "print(X_test.shape)\n",
        "\n",
        "Y_train = keras.utils.to_categorical(Y_train)\n",
        "Y_test = keras.utils.to_categorical(Y_test)\n",
        "print(Y_train.shape)\n",
        "print(Y_test.shape)"
      ],
      "execution_count": 0,
      "outputs": []
    },
    {
      "cell_type": "code",
      "metadata": {
        "id": "hSfoc_sXcCoN",
        "colab_type": "code",
        "colab": {
          "base_uri": "https://localhost:8080/",
          "height": 118
        },
        "outputId": "e13663a5-169e-4f85-fb0b-a07875ecc9d4"
      },
      "source": [
        "#Bag of Words Feature Extraction Method\n",
        "BOW_vectorizer = CountVectorizer(min_df=5,\n",
        "                                 max_df=5,\n",
        "                                  analyzer='word',\n",
        "                                  strip_accents='unicode',\n",
        "                                  ngram_range=(1,3),stop_words=None)\n",
        "BOW_vectorizer.fit(list(fullSent['Phrase']))"
      ],
      "execution_count": 13,
      "outputs": [
        {
          "output_type": "execute_result",
          "data": {
            "text/plain": [
              "CountVectorizer(analyzer='word', binary=False, decode_error='strict',\n",
              "                dtype=<class 'numpy.int64'>, encoding='utf-8', input='content',\n",
              "                lowercase=True, max_df=5, max_features=None, min_df=5,\n",
              "                ngram_range=(1, 3), preprocessor=None, stop_words=None,\n",
              "                strip_accents='unicode', token_pattern='(?u)\\\\b\\\\w\\\\w+\\\\b',\n",
              "                tokenizer=None, vocabulary=None)"
            ]
          },
          "metadata": {
            "tags": []
          },
          "execution_count": 13
        }
      ]
    },
    {
      "cell_type": "code",
      "metadata": {
        "id": "V_XFeS_3cFUF",
        "colab_type": "code",
        "colab": {
          "base_uri": "https://localhost:8080/",
          "height": 50
        },
        "outputId": "7a8c0d2b-5803-4e59-8df7-1b028cfd3806"
      },
      "source": [
        "train_bow=BOW_vectorizer.transform(X_train)\n",
        "test_bow=BOW_vectorizer.transform(X_test)\n",
        "print(train_bow.shape)\n",
        "print(test_bow.shape)\n"
      ],
      "execution_count": 14,
      "outputs": [
        {
          "output_type": "stream",
          "text": [
            "(6823, 1481)\n",
            "(1706, 1481)\n"
          ],
          "name": "stdout"
        }
      ]
    },
    {
      "cell_type": "code",
      "metadata": {
        "id": "dhfXwLUZceWJ",
        "colab_type": "code",
        "colab": {
          "base_uri": "https://localhost:8080/",
          "height": 84
        },
        "outputId": "542224e4-61c1-42bc-9eaa-6c9d15e49f0d"
      },
      "source": [
        "rX_train  = train_bow.toarray()\n",
        "X_train = rX_train.reshape((rX_train.shape[0],rX_train.shape[1],1))\n",
        "print(X_train.shape)\n",
        "\n",
        "rX_test  = test_bow.toarray()\n",
        "X_test = rX_test.reshape((rX_test.shape[0],rX_test.shape[1],1))\n",
        "print(X_test.shape)\n",
        "\n",
        "Y_train = keras.utils.to_categorical(Y_train)\n",
        "Y_test = keras.utils.to_categorical(Y_test)\n",
        "print(Y_train.shape)\n",
        "print(Y_test.shape)"
      ],
      "execution_count": 16,
      "outputs": [
        {
          "output_type": "stream",
          "text": [
            "(6823, 1481, 1)\n",
            "(1706, 1481, 1)\n",
            "(6823, 5)\n",
            "(1706, 5)\n"
          ],
          "name": "stdout"
        }
      ]
    },
    {
      "cell_type": "code",
      "metadata": {
        "id": "cG7XZG1iqhHJ",
        "colab_type": "code",
        "colab": {}
      },
      "source": [
        "#Evaluation Metrics\n",
        "from keras import backend as K\n",
        "\n",
        "def recall_m(y_true,y_pred):\n",
        "  true_positives = K.sum(K.round(K.clip(y_true * y_pred, 0,1)))\n",
        "  possible_positives = K.sum(K.round(K.clip(y_true, 0,1)))\n",
        "  recall = true_positives / (possible_positives + K.epsilon())\n",
        "  return recall\n",
        "\n",
        "def precision_m(y_true, y_pred):\n",
        "  true_positives = K.sum(K.round(K.clip(y_true * y_pred, 0,1)))\n",
        "  predicted_positives = K.sum(K.round(K.clip(y_pred, 0,1)))\n",
        "  precision = true_positives / (predicted_positives + K.epsilon())\n",
        "  return precision\n",
        "\n",
        "def f1_m(y_true,y_pred):\n",
        "  precision = precision_m(y_true,y_pred)\n",
        "  recall = recall_m(y_true,y_pred)\n",
        "  return 2*((precision * recall)/(precision + recall + K.epsilon()))"
      ],
      "execution_count": 0,
      "outputs": []
    },
    {
      "cell_type": "code",
      "metadata": {
        "id": "RKQc9LWvtv5z",
        "colab_type": "code",
        "colab": {}
      },
      "source": [
        "# Some handy libraries to build a baseline CNN model\n",
        "from keras.models import Sequential\n",
        "from keras.layers import Conv1D, MaxPool1D, Dense, Dropout, Flatten, MaxPooling1D\n",
        "from keras.layers import Activation, GlobalMaxPooling1D\n",
        "from keras import optimizers\n",
        "from keras.layers.embeddings import Embedding\n"
      ],
      "execution_count": 0,
      "outputs": []
    },
    {
      "cell_type": "code",
      "metadata": {
        "id": "dtQ3YNTI0B_f",
        "colab_type": "code",
        "colab": {}
      },
      "source": [
        "# CNN Model\n",
        "from numpy import newaxis\n",
        "\n",
        "def baseline_cnn_model(fea_matrix, n_class, mode, compiler):\n",
        "  # create model\n",
        "  model = Sequential()\n",
        "  model.add(Conv1D(filters=64, kernel_size = (3), activation = 'relu', input_shape = (fea_matrix.shape[1], fea_matrix.shape[2])))\n",
        "  model.add(MaxPool1D(pool_size = 2))\n",
        "  model.add(Conv1D(filters=128, kernel_size = (3), activation = 'relu'))\n",
        "  model.add(MaxPool1D(pool_size = 2))\n",
        "  model.add(Flatten())\n",
        "  model.add(Activation('relu'))\n",
        "  model.add(Dense(n_class, activation = 'softmax'))\n",
        "  #model.compile(loss='binary_crossentropy', optimizer='adam', metrics=['accuracy'])\n",
        "\n",
        "  model.compile(loss='categorical_crossentropy',optimizer='rmsprop',  metrics=['acc', f1_m, precision_m, recall_m])\n",
        "  #model_ptw2v.add(Dense(1, activation='sigmoid'))\n",
        "\n",
        "  return model"
      ],
      "execution_count": 0,
      "outputs": []
    },
    {
      "cell_type": "code",
      "metadata": {
        "id": "PBGXFrNkxJkx",
        "colab_type": "code",
        "outputId": "cca49abc-5539-49a7-c9b5-d4226db4f8b6",
        "colab": {
          "base_uri": "https://localhost:8080/",
          "height": 255
        }
      },
      "source": [
        "# Tuning hyper-parameters\n",
        "import math\n",
        "\n",
        "lr = math.exp(-3)\n",
        "batch_size=128\n",
        "num_epochs=100\n",
        "decay= math.exp(-4)\n",
        "mode=\"reg\"\n",
        "n_class=5 #5\n",
        "adm=optimizers.Adam(lr=lr,decay=decay)\n",
        "sgd=optimizers.SGD(lr=lr, nesterov=True,momentum=0.7,decay=decay)\n",
        "\n",
        "Nadam= optimizers.Nadam(lr=lr, beta_1=0.9,beta_2=0.999,epsilon=math.exp(-8))\n",
        "model=baseline_cnn_model(X_train,n_class,mode,Nadam)"
      ],
      "execution_count": 20,
      "outputs": [
        {
          "output_type": "stream",
          "text": [
            "WARNING: Logging before flag parsing goes to stderr.\n",
            "W0812 20:08:19.010595 140474767583104 deprecation_wrapper.py:119] From /usr/local/lib/python3.6/dist-packages/keras/backend/tensorflow_backend.py:74: The name tf.get_default_graph is deprecated. Please use tf.compat.v1.get_default_graph instead.\n",
            "\n",
            "W0812 20:08:19.012771 140474767583104 deprecation_wrapper.py:119] From /usr/local/lib/python3.6/dist-packages/keras/backend/tensorflow_backend.py:517: The name tf.placeholder is deprecated. Please use tf.compat.v1.placeholder instead.\n",
            "\n",
            "W0812 20:08:19.018224 140474767583104 deprecation_wrapper.py:119] From /usr/local/lib/python3.6/dist-packages/keras/backend/tensorflow_backend.py:4138: The name tf.random_uniform is deprecated. Please use tf.random.uniform instead.\n",
            "\n",
            "W0812 20:08:19.037522 140474767583104 deprecation_wrapper.py:119] From /usr/local/lib/python3.6/dist-packages/keras/backend/tensorflow_backend.py:3976: The name tf.nn.max_pool is deprecated. Please use tf.nn.max_pool2d instead.\n",
            "\n",
            "W0812 20:08:19.077743 140474767583104 deprecation_wrapper.py:119] From /usr/local/lib/python3.6/dist-packages/keras/optimizers.py:790: The name tf.train.Optimizer is deprecated. Please use tf.compat.v1.train.Optimizer instead.\n",
            "\n",
            "W0812 20:08:19.097187 140474767583104 deprecation_wrapper.py:119] From /usr/local/lib/python3.6/dist-packages/keras/backend/tensorflow_backend.py:3295: The name tf.log is deprecated. Please use tf.math.log instead.\n",
            "\n"
          ],
          "name": "stderr"
        }
      ]
    },
    {
      "cell_type": "code",
      "metadata": {
        "id": "olwvl6I2xiS4",
        "colab_type": "code",
        "outputId": "9b47abae-fb2f-467a-8530-8fde60865fd8",
        "colab": {
          "base_uri": "https://localhost:8080/",
          "height": 1000
        }
      },
      "source": [
        "# Model Training\n",
        "history=model.fit(X_train,Y_train,batch_size=batch_size,epochs=num_epochs,verbose=1,validation_split=0.2)"
      ],
      "execution_count": 21,
      "outputs": [
        {
          "output_type": "stream",
          "text": [
            "W0812 20:08:21.701958 140474767583104 deprecation.py:323] From /usr/local/lib/python3.6/dist-packages/tensorflow/python/ops/math_grad.py:1250: add_dispatch_support.<locals>.wrapper (from tensorflow.python.ops.array_ops) is deprecated and will be removed in a future version.\n",
            "Instructions for updating:\n",
            "Use tf.where in 2.0, which has the same broadcast rule as np.where\n",
            "W0812 20:08:21.986714 140474767583104 deprecation_wrapper.py:119] From /usr/local/lib/python3.6/dist-packages/keras/backend/tensorflow_backend.py:986: The name tf.assign_add is deprecated. Please use tf.compat.v1.assign_add instead.\n",
            "\n"
          ],
          "name": "stderr"
        },
        {
          "output_type": "stream",
          "text": [
            "Train on 5458 samples, validate on 1365 samples\n",
            "Epoch 1/100\n",
            "5458/5458 [==============================] - 4s 729us/step - loss: 1.5720 - acc: 0.2713 - f1_m: 0.0000e+00 - precision_m: 0.0000e+00 - recall_m: 0.0000e+00 - val_loss: 1.5932 - val_acc: 0.2689 - val_f1_m: 0.0000e+00 - val_precision_m: 0.0000e+00 - val_recall_m: 0.0000e+00\n",
            "Epoch 2/100\n",
            "5458/5458 [==============================] - 1s 161us/step - loss: 1.5522 - acc: 0.2862 - f1_m: 0.0085 - precision_m: 0.2373 - recall_m: 0.0044 - val_loss: 1.5846 - val_acc: 0.2601 - val_f1_m: 0.0072 - val_precision_m: 0.2188 - val_recall_m: 0.0037\n",
            "Epoch 3/100\n",
            "5458/5458 [==============================] - 1s 160us/step - loss: 1.5286 - acc: 0.3019 - f1_m: 0.0397 - precision_m: 0.4973 - recall_m: 0.0209 - val_loss: 1.6009 - val_acc: 0.2571 - val_f1_m: 0.0264 - val_precision_m: 0.3175 - val_recall_m: 0.0139\n",
            "Epoch 4/100\n",
            "5458/5458 [==============================] - 1s 162us/step - loss: 1.5147 - acc: 0.3014 - f1_m: 0.0606 - precision_m: 0.5539 - recall_m: 0.0322 - val_loss: 1.6650 - val_acc: 0.2593 - val_f1_m: 0.0580 - val_precision_m: 0.3183 - val_recall_m: 0.0322\n",
            "Epoch 5/100\n",
            "5458/5458 [==============================] - 1s 165us/step - loss: 1.5072 - acc: 0.3140 - f1_m: 0.0859 - precision_m: 0.5851 - recall_m: 0.0467 - val_loss: 1.6285 - val_acc: 0.2579 - val_f1_m: 0.0445 - val_precision_m: 0.3042 - val_recall_m: 0.0242\n",
            "Epoch 6/100\n",
            "5458/5458 [==============================] - 1s 164us/step - loss: 1.4999 - acc: 0.3098 - f1_m: 0.0830 - precision_m: 0.5943 - recall_m: 0.0449 - val_loss: 1.6404 - val_acc: 0.2608 - val_f1_m: 0.0466 - val_precision_m: 0.2984 - val_recall_m: 0.0256\n",
            "Epoch 7/100\n",
            "5458/5458 [==============================] - 1s 161us/step - loss: 1.4945 - acc: 0.3113 - f1_m: 0.0949 - precision_m: 0.5919 - recall_m: 0.0519 - val_loss: 1.6391 - val_acc: 0.2557 - val_f1_m: 0.0390 - val_precision_m: 0.2595 - val_recall_m: 0.0212\n",
            "Epoch 8/100\n",
            "5458/5458 [==============================] - 1s 160us/step - loss: 1.4887 - acc: 0.3155 - f1_m: 0.0989 - precision_m: 0.6151 - recall_m: 0.0542 - val_loss: 1.6538 - val_acc: 0.2593 - val_f1_m: 0.0452 - val_precision_m: 0.2658 - val_recall_m: 0.0249\n",
            "Epoch 9/100\n",
            "5458/5458 [==============================] - 1s 159us/step - loss: 1.4841 - acc: 0.3124 - f1_m: 0.1061 - precision_m: 0.6379 - recall_m: 0.0583 - val_loss: 1.6798 - val_acc: 0.2608 - val_f1_m: 0.0560 - val_precision_m: 0.2731 - val_recall_m: 0.0315\n",
            "Epoch 10/100\n",
            "5458/5458 [==============================] - 1s 160us/step - loss: 1.4815 - acc: 0.3175 - f1_m: 0.1057 - precision_m: 0.6023 - recall_m: 0.0583 - val_loss: 1.6820 - val_acc: 0.2615 - val_f1_m: 0.0550 - val_precision_m: 0.2770 - val_recall_m: 0.0308\n",
            "Epoch 11/100\n",
            "5458/5458 [==============================] - 1s 161us/step - loss: 1.4759 - acc: 0.3199 - f1_m: 0.1084 - precision_m: 0.6212 - recall_m: 0.0597 - val_loss: 1.6882 - val_acc: 0.2586 - val_f1_m: 0.0487 - val_precision_m: 0.2648 - val_recall_m: 0.0271\n",
            "Epoch 12/100\n",
            "5458/5458 [==============================] - 1s 160us/step - loss: 1.4732 - acc: 0.3188 - f1_m: 0.1085 - precision_m: 0.6055 - recall_m: 0.0599 - val_loss: 1.7058 - val_acc: 0.2608 - val_f1_m: 0.0572 - val_precision_m: 0.2681 - val_recall_m: 0.0322\n",
            "Epoch 13/100\n",
            "5458/5458 [==============================] - 1s 163us/step - loss: 1.4713 - acc: 0.3170 - f1_m: 0.1189 - precision_m: 0.6182 - recall_m: 0.0661 - val_loss: 1.7008 - val_acc: 0.2623 - val_f1_m: 0.0559 - val_precision_m: 0.2647 - val_recall_m: 0.0315\n",
            "Epoch 14/100\n",
            "5458/5458 [==============================] - 1s 161us/step - loss: 1.4680 - acc: 0.3144 - f1_m: 0.1139 - precision_m: 0.6094 - recall_m: 0.0632 - val_loss: 1.7135 - val_acc: 0.2593 - val_f1_m: 0.0608 - val_precision_m: 0.2752 - val_recall_m: 0.0344\n",
            "Epoch 15/100\n",
            "5458/5458 [==============================] - 1s 161us/step - loss: 1.4661 - acc: 0.3186 - f1_m: 0.1215 - precision_m: 0.6160 - recall_m: 0.0678 - val_loss: 1.7182 - val_acc: 0.2579 - val_f1_m: 0.0547 - val_precision_m: 0.2598 - val_recall_m: 0.0308\n",
            "Epoch 16/100\n",
            "5458/5458 [==============================] - 1s 161us/step - loss: 1.4642 - acc: 0.3237 - f1_m: 0.1224 - precision_m: 0.6217 - recall_m: 0.0682 - val_loss: 1.7178 - val_acc: 0.2615 - val_f1_m: 0.0559 - val_precision_m: 0.2628 - val_recall_m: 0.0315\n",
            "Epoch 17/100\n",
            "5458/5458 [==============================] - 1s 161us/step - loss: 1.4633 - acc: 0.3184 - f1_m: 0.1233 - precision_m: 0.6292 - recall_m: 0.0687 - val_loss: 1.7356 - val_acc: 0.2564 - val_f1_m: 0.0544 - val_precision_m: 0.2453 - val_recall_m: 0.0308\n",
            "Epoch 18/100\n",
            "5458/5458 [==============================] - 1s 161us/step - loss: 1.4614 - acc: 0.3217 - f1_m: 0.1270 - precision_m: 0.6379 - recall_m: 0.0711 - val_loss: 1.7290 - val_acc: 0.2564 - val_f1_m: 0.0507 - val_precision_m: 0.2398 - val_recall_m: 0.0286\n",
            "Epoch 19/100\n",
            "5458/5458 [==============================] - 1s 161us/step - loss: 1.4602 - acc: 0.3199 - f1_m: 0.1252 - precision_m: 0.6435 - recall_m: 0.0698 - val_loss: 1.7407 - val_acc: 0.2608 - val_f1_m: 0.0623 - val_precision_m: 0.2830 - val_recall_m: 0.0352\n",
            "Epoch 20/100\n",
            "5458/5458 [==============================] - 1s 161us/step - loss: 1.4594 - acc: 0.3217 - f1_m: 0.1267 - precision_m: 0.6315 - recall_m: 0.0711 - val_loss: 1.7488 - val_acc: 0.2593 - val_f1_m: 0.0572 - val_precision_m: 0.2695 - val_recall_m: 0.0322\n",
            "Epoch 21/100\n",
            "5458/5458 [==============================] - 1s 161us/step - loss: 1.4581 - acc: 0.3226 - f1_m: 0.1270 - precision_m: 0.6352 - recall_m: 0.0713 - val_loss: 1.7542 - val_acc: 0.2579 - val_f1_m: 0.0674 - val_precision_m: 0.3099 - val_recall_m: 0.0381\n",
            "Epoch 22/100\n",
            "5458/5458 [==============================] - 1s 161us/step - loss: 1.4578 - acc: 0.3179 - f1_m: 0.1279 - precision_m: 0.6315 - recall_m: 0.0716 - val_loss: 1.7508 - val_acc: 0.2579 - val_f1_m: 0.0611 - val_precision_m: 0.2875 - val_recall_m: 0.0344\n",
            "Epoch 23/100\n",
            "5458/5458 [==============================] - 1s 161us/step - loss: 1.4567 - acc: 0.3241 - f1_m: 0.1295 - precision_m: 0.6201 - recall_m: 0.0729 - val_loss: 1.7505 - val_acc: 0.2623 - val_f1_m: 0.0598 - val_precision_m: 0.2828 - val_recall_m: 0.0337\n",
            "Epoch 24/100\n",
            "5458/5458 [==============================] - 1s 161us/step - loss: 1.4557 - acc: 0.3230 - f1_m: 0.1297 - precision_m: 0.6369 - recall_m: 0.0726 - val_loss: 1.7860 - val_acc: 0.2630 - val_f1_m: 0.0669 - val_precision_m: 0.2859 - val_recall_m: 0.0381\n",
            "Epoch 25/100\n",
            "5458/5458 [==============================] - 1s 163us/step - loss: 1.4554 - acc: 0.3159 - f1_m: 0.1315 - precision_m: 0.6377 - recall_m: 0.0738 - val_loss: 1.7923 - val_acc: 0.2601 - val_f1_m: 0.0770 - val_precision_m: 0.3217 - val_recall_m: 0.0440\n",
            "Epoch 26/100\n",
            "5458/5458 [==============================] - 1s 161us/step - loss: 1.4554 - acc: 0.3234 - f1_m: 0.1321 - precision_m: 0.6294 - recall_m: 0.0742 - val_loss: 1.7787 - val_acc: 0.2564 - val_f1_m: 0.0646 - val_precision_m: 0.2884 - val_recall_m: 0.0366\n",
            "Epoch 27/100\n",
            "5458/5458 [==============================] - 1s 160us/step - loss: 1.4545 - acc: 0.3230 - f1_m: 0.1278 - precision_m: 0.6306 - recall_m: 0.0715 - val_loss: 1.7932 - val_acc: 0.2579 - val_f1_m: 0.0707 - val_precision_m: 0.2976 - val_recall_m: 0.0403\n",
            "Epoch 28/100\n",
            "5458/5458 [==============================] - 1s 161us/step - loss: 1.4543 - acc: 0.3225 - f1_m: 0.1334 - precision_m: 0.6283 - recall_m: 0.0749 - val_loss: 1.7816 - val_acc: 0.2593 - val_f1_m: 0.0722 - val_precision_m: 0.3161 - val_recall_m: 0.0410\n",
            "Epoch 29/100\n",
            "5458/5458 [==============================] - 1s 161us/step - loss: 1.4535 - acc: 0.3204 - f1_m: 0.1323 - precision_m: 0.6301 - recall_m: 0.0744 - val_loss: 1.7720 - val_acc: 0.2586 - val_f1_m: 0.0635 - val_precision_m: 0.2844 - val_recall_m: 0.0359\n",
            "Epoch 30/100\n",
            "5458/5458 [==============================] - 1s 161us/step - loss: 1.4530 - acc: 0.3236 - f1_m: 0.1325 - precision_m: 0.6358 - recall_m: 0.0744 - val_loss: 1.7636 - val_acc: 0.2593 - val_f1_m: 0.0661 - val_precision_m: 0.2911 - val_recall_m: 0.0374\n",
            "Epoch 31/100\n",
            "5458/5458 [==============================] - 1s 161us/step - loss: 1.4526 - acc: 0.3201 - f1_m: 0.1325 - precision_m: 0.6248 - recall_m: 0.0746 - val_loss: 1.7637 - val_acc: 0.2579 - val_f1_m: 0.0648 - val_precision_m: 0.2946 - val_recall_m: 0.0366\n",
            "Epoch 32/100\n",
            "5458/5458 [==============================] - 1s 160us/step - loss: 1.4521 - acc: 0.3208 - f1_m: 0.1292 - precision_m: 0.6314 - recall_m: 0.0724 - val_loss: 1.8342 - val_acc: 0.2615 - val_f1_m: 0.0803 - val_precision_m: 0.3166 - val_recall_m: 0.0462\n",
            "Epoch 33/100\n",
            "5458/5458 [==============================] - 1s 161us/step - loss: 1.4525 - acc: 0.3177 - f1_m: 0.1350 - precision_m: 0.6257 - recall_m: 0.0760 - val_loss: 1.7816 - val_acc: 0.2586 - val_f1_m: 0.0698 - val_precision_m: 0.3081 - val_recall_m: 0.0396\n",
            "Epoch 34/100\n",
            "5458/5458 [==============================] - 1s 160us/step - loss: 1.4518 - acc: 0.3256 - f1_m: 0.1342 - precision_m: 0.6167 - recall_m: 0.0759 - val_loss: 1.7611 - val_acc: 0.2586 - val_f1_m: 0.0597 - val_precision_m: 0.2758 - val_recall_m: 0.0337\n",
            "Epoch 35/100\n",
            "5458/5458 [==============================] - 1s 161us/step - loss: 1.4517 - acc: 0.3250 - f1_m: 0.1320 - precision_m: 0.6451 - recall_m: 0.0740 - val_loss: 1.8006 - val_acc: 0.2564 - val_f1_m: 0.0617 - val_precision_m: 0.2625 - val_recall_m: 0.0352\n",
            "Epoch 36/100\n",
            "5458/5458 [==============================] - 1s 161us/step - loss: 1.4515 - acc: 0.3215 - f1_m: 0.1358 - precision_m: 0.6374 - recall_m: 0.0766 - val_loss: 1.7791 - val_acc: 0.2586 - val_f1_m: 0.0671 - val_precision_m: 0.2879 - val_recall_m: 0.0381\n",
            "Epoch 37/100\n",
            "5458/5458 [==============================] - 1s 162us/step - loss: 1.4503 - acc: 0.3245 - f1_m: 0.1323 - precision_m: 0.6465 - recall_m: 0.0742 - val_loss: 1.8424 - val_acc: 0.2579 - val_f1_m: 0.0727 - val_precision_m: 0.2925 - val_recall_m: 0.0418\n",
            "Epoch 38/100\n",
            "5458/5458 [==============================] - 1s 161us/step - loss: 1.4507 - acc: 0.3212 - f1_m: 0.1347 - precision_m: 0.6453 - recall_m: 0.0757 - val_loss: 1.8313 - val_acc: 0.2571 - val_f1_m: 0.0690 - val_precision_m: 0.2790 - val_recall_m: 0.0396\n",
            "Epoch 39/100\n",
            "5458/5458 [==============================] - 1s 160us/step - loss: 1.4501 - acc: 0.3252 - f1_m: 0.1354 - precision_m: 0.6286 - recall_m: 0.0764 - val_loss: 1.7987 - val_acc: 0.2586 - val_f1_m: 0.0658 - val_precision_m: 0.2818 - val_recall_m: 0.0374\n",
            "Epoch 40/100\n",
            "5458/5458 [==============================] - 1s 161us/step - loss: 1.4500 - acc: 0.3252 - f1_m: 0.1346 - precision_m: 0.6345 - recall_m: 0.0759 - val_loss: 1.8052 - val_acc: 0.2608 - val_f1_m: 0.0710 - val_precision_m: 0.3096 - val_recall_m: 0.0403\n",
            "Epoch 41/100\n",
            "5458/5458 [==============================] - 1s 160us/step - loss: 1.4497 - acc: 0.3248 - f1_m: 0.1352 - precision_m: 0.6247 - recall_m: 0.0762 - val_loss: 1.7972 - val_acc: 0.2586 - val_f1_m: 0.0645 - val_precision_m: 0.2786 - val_recall_m: 0.0366\n",
            "Epoch 42/100\n",
            "5458/5458 [==============================] - 1s 161us/step - loss: 1.4496 - acc: 0.3258 - f1_m: 0.1344 - precision_m: 0.6382 - recall_m: 0.0757 - val_loss: 1.8115 - val_acc: 0.2564 - val_f1_m: 0.0630 - val_precision_m: 0.2641 - val_recall_m: 0.0359\n",
            "Epoch 43/100\n",
            "5458/5458 [==============================] - 1s 160us/step - loss: 1.4492 - acc: 0.3247 - f1_m: 0.1340 - precision_m: 0.6345 - recall_m: 0.0753 - val_loss: 1.7982 - val_acc: 0.2601 - val_f1_m: 0.0670 - val_precision_m: 0.2858 - val_recall_m: 0.0381\n",
            "Epoch 44/100\n",
            "5458/5458 [==============================] - 1s 161us/step - loss: 1.4495 - acc: 0.3250 - f1_m: 0.1341 - precision_m: 0.6322 - recall_m: 0.0755 - val_loss: 1.7895 - val_acc: 0.2593 - val_f1_m: 0.0698 - val_precision_m: 0.3074 - val_recall_m: 0.0396\n",
            "Epoch 45/100\n",
            "5458/5458 [==============================] - 1s 161us/step - loss: 1.4495 - acc: 0.3243 - f1_m: 0.1348 - precision_m: 0.6323 - recall_m: 0.0759 - val_loss: 1.7840 - val_acc: 0.2586 - val_f1_m: 0.0671 - val_precision_m: 0.2901 - val_recall_m: 0.0381\n",
            "Epoch 46/100\n",
            "5458/5458 [==============================] - 1s 160us/step - loss: 1.4490 - acc: 0.3252 - f1_m: 0.1323 - precision_m: 0.6445 - recall_m: 0.0742 - val_loss: 1.8090 - val_acc: 0.2586 - val_f1_m: 0.0696 - val_precision_m: 0.3021 - val_recall_m: 0.0396\n",
            "Epoch 47/100\n",
            "5458/5458 [==============================] - 1s 162us/step - loss: 1.4489 - acc: 0.3270 - f1_m: 0.1353 - precision_m: 0.6468 - recall_m: 0.0760 - val_loss: 1.8295 - val_acc: 0.2586 - val_f1_m: 0.0755 - val_precision_m: 0.3120 - val_recall_m: 0.0432\n",
            "Epoch 48/100\n",
            "5458/5458 [==============================] - 1s 162us/step - loss: 1.4486 - acc: 0.3269 - f1_m: 0.1358 - precision_m: 0.6375 - recall_m: 0.0766 - val_loss: 1.8257 - val_acc: 0.2586 - val_f1_m: 0.0720 - val_precision_m: 0.3076 - val_recall_m: 0.0410\n",
            "Epoch 49/100\n",
            "5458/5458 [==============================] - 1s 162us/step - loss: 1.4480 - acc: 0.3261 - f1_m: 0.1338 - precision_m: 0.6382 - recall_m: 0.0753 - val_loss: 1.8043 - val_acc: 0.2593 - val_f1_m: 0.0632 - val_precision_m: 0.2724 - val_recall_m: 0.0359\n",
            "Epoch 50/100\n",
            "5458/5458 [==============================] - 1s 160us/step - loss: 1.4482 - acc: 0.3250 - f1_m: 0.1347 - precision_m: 0.6419 - recall_m: 0.0757 - val_loss: 1.7831 - val_acc: 0.2601 - val_f1_m: 0.0661 - val_precision_m: 0.3023 - val_recall_m: 0.0374\n",
            "Epoch 51/100\n",
            "5458/5458 [==============================] - 1s 162us/step - loss: 1.4477 - acc: 0.3267 - f1_m: 0.1327 - precision_m: 0.6410 - recall_m: 0.0744 - val_loss: 1.8033 - val_acc: 0.2571 - val_f1_m: 0.0642 - val_precision_m: 0.2687 - val_recall_m: 0.0366\n",
            "Epoch 52/100\n",
            "5458/5458 [==============================] - 1s 161us/step - loss: 1.4481 - acc: 0.3263 - f1_m: 0.1342 - precision_m: 0.6568 - recall_m: 0.0753 - val_loss: 1.8187 - val_acc: 0.2601 - val_f1_m: 0.0720 - val_precision_m: 0.3075 - val_recall_m: 0.0410\n",
            "Epoch 53/100\n",
            "5458/5458 [==============================] - 1s 161us/step - loss: 1.4480 - acc: 0.3272 - f1_m: 0.1335 - precision_m: 0.6379 - recall_m: 0.0749 - val_loss: 1.8340 - val_acc: 0.2593 - val_f1_m: 0.0719 - val_precision_m: 0.3028 - val_recall_m: 0.0410\n",
            "Epoch 54/100\n",
            "5458/5458 [==============================] - 1s 161us/step - loss: 1.4479 - acc: 0.3259 - f1_m: 0.1382 - precision_m: 0.6394 - recall_m: 0.0781 - val_loss: 1.7998 - val_acc: 0.2579 - val_f1_m: 0.0643 - val_precision_m: 0.2715 - val_recall_m: 0.0366\n",
            "Epoch 55/100\n",
            "5458/5458 [==============================] - 1s 161us/step - loss: 1.4478 - acc: 0.3261 - f1_m: 0.1333 - precision_m: 0.6352 - recall_m: 0.0749 - val_loss: 1.8211 - val_acc: 0.2586 - val_f1_m: 0.0656 - val_precision_m: 0.2774 - val_recall_m: 0.0374\n",
            "Epoch 56/100\n",
            "5458/5458 [==============================] - 1s 160us/step - loss: 1.4470 - acc: 0.3274 - f1_m: 0.1367 - precision_m: 0.6427 - recall_m: 0.0770 - val_loss: 1.8205 - val_acc: 0.2571 - val_f1_m: 0.0668 - val_precision_m: 0.2780 - val_recall_m: 0.0381\n",
            "Epoch 57/100\n",
            "5458/5458 [==============================] - 1s 160us/step - loss: 1.4471 - acc: 0.3254 - f1_m: 0.1334 - precision_m: 0.6370 - recall_m: 0.0749 - val_loss: 1.8169 - val_acc: 0.2571 - val_f1_m: 0.0630 - val_precision_m: 0.2646 - val_recall_m: 0.0359\n",
            "Epoch 58/100\n",
            "5458/5458 [==============================] - 1s 162us/step - loss: 1.4475 - acc: 0.3267 - f1_m: 0.1362 - precision_m: 0.6425 - recall_m: 0.0764 - val_loss: 1.8190 - val_acc: 0.2608 - val_f1_m: 0.0723 - val_precision_m: 0.3178 - val_recall_m: 0.0410\n",
            "Epoch 59/100\n",
            "5458/5458 [==============================] - 1s 161us/step - loss: 1.4477 - acc: 0.3270 - f1_m: 0.1372 - precision_m: 0.6423 - recall_m: 0.0773 - val_loss: 1.8111 - val_acc: 0.2615 - val_f1_m: 0.0722 - val_precision_m: 0.3143 - val_recall_m: 0.0410\n",
            "Epoch 60/100\n",
            "5458/5458 [==============================] - 1s 162us/step - loss: 1.4468 - acc: 0.3265 - f1_m: 0.1354 - precision_m: 0.6379 - recall_m: 0.0764 - val_loss: 1.8092 - val_acc: 0.2579 - val_f1_m: 0.0654 - val_precision_m: 0.2703 - val_recall_m: 0.0374\n",
            "Epoch 61/100\n",
            "5458/5458 [==============================] - 1s 161us/step - loss: 1.4470 - acc: 0.3261 - f1_m: 0.1357 - precision_m: 0.6382 - recall_m: 0.0764 - val_loss: 1.8340 - val_acc: 0.2586 - val_f1_m: 0.0695 - val_precision_m: 0.2962 - val_recall_m: 0.0396\n",
            "Epoch 62/100\n",
            "5458/5458 [==============================] - 1s 161us/step - loss: 1.4469 - acc: 0.3254 - f1_m: 0.1376 - precision_m: 0.6440 - recall_m: 0.0777 - val_loss: 1.8083 - val_acc: 0.2586 - val_f1_m: 0.0697 - val_precision_m: 0.3082 - val_recall_m: 0.0396\n",
            "Epoch 63/100\n",
            "5458/5458 [==============================] - 1s 160us/step - loss: 1.4466 - acc: 0.3259 - f1_m: 0.1344 - precision_m: 0.6391 - recall_m: 0.0755 - val_loss: 1.8185 - val_acc: 0.2593 - val_f1_m: 0.0697 - val_precision_m: 0.3058 - val_recall_m: 0.0396\n",
            "Epoch 64/100\n",
            "5458/5458 [==============================] - 1s 161us/step - loss: 1.4464 - acc: 0.3223 - f1_m: 0.1370 - precision_m: 0.6467 - recall_m: 0.0771 - val_loss: 1.7876 - val_acc: 0.2579 - val_f1_m: 0.0635 - val_precision_m: 0.2819 - val_recall_m: 0.0359\n",
            "Epoch 65/100\n",
            "5458/5458 [==============================] - 1s 161us/step - loss: 1.4467 - acc: 0.3265 - f1_m: 0.1355 - precision_m: 0.6412 - recall_m: 0.0762 - val_loss: 1.7867 - val_acc: 0.2593 - val_f1_m: 0.0620 - val_precision_m: 0.2692 - val_recall_m: 0.0352\n",
            "Epoch 66/100\n",
            "5458/5458 [==============================] - 1s 161us/step - loss: 1.4465 - acc: 0.3285 - f1_m: 0.1360 - precision_m: 0.6506 - recall_m: 0.0762 - val_loss: 1.8076 - val_acc: 0.2593 - val_f1_m: 0.0685 - val_precision_m: 0.3052 - val_recall_m: 0.0388\n",
            "Epoch 67/100\n",
            "5458/5458 [==============================] - 1s 160us/step - loss: 1.4467 - acc: 0.3250 - f1_m: 0.1343 - precision_m: 0.6483 - recall_m: 0.0755 - val_loss: 1.8558 - val_acc: 0.2586 - val_f1_m: 0.0694 - val_precision_m: 0.2922 - val_recall_m: 0.0396\n",
            "Epoch 68/100\n",
            "5458/5458 [==============================] - 1s 160us/step - loss: 1.4461 - acc: 0.3228 - f1_m: 0.1358 - precision_m: 0.6423 - recall_m: 0.0766 - val_loss: 1.8324 - val_acc: 0.2579 - val_f1_m: 0.0681 - val_precision_m: 0.2828 - val_recall_m: 0.0388\n",
            "Epoch 69/100\n",
            "5458/5458 [==============================] - 1s 161us/step - loss: 1.4461 - acc: 0.3270 - f1_m: 0.1339 - precision_m: 0.6333 - recall_m: 0.0753 - val_loss: 1.8315 - val_acc: 0.2571 - val_f1_m: 0.0630 - val_precision_m: 0.2626 - val_recall_m: 0.0359\n",
            "Epoch 70/100\n",
            "5458/5458 [==============================] - 1s 160us/step - loss: 1.4464 - acc: 0.3267 - f1_m: 0.1358 - precision_m: 0.6385 - recall_m: 0.0764 - val_loss: 1.8173 - val_acc: 0.2571 - val_f1_m: 0.0618 - val_precision_m: 0.2655 - val_recall_m: 0.0352\n",
            "Epoch 71/100\n",
            "5458/5458 [==============================] - 1s 161us/step - loss: 1.4461 - acc: 0.3258 - f1_m: 0.1366 - precision_m: 0.6470 - recall_m: 0.0768 - val_loss: 1.8178 - val_acc: 0.2557 - val_f1_m: 0.0631 - val_precision_m: 0.2661 - val_recall_m: 0.0359\n",
            "Epoch 72/100\n",
            "5458/5458 [==============================] - 1s 162us/step - loss: 1.4453 - acc: 0.3267 - f1_m: 0.1382 - precision_m: 0.6343 - recall_m: 0.0781 - val_loss: 1.8103 - val_acc: 0.2593 - val_f1_m: 0.0643 - val_precision_m: 0.2706 - val_recall_m: 0.0366\n",
            "Epoch 73/100\n",
            "5458/5458 [==============================] - 1s 160us/step - loss: 1.4455 - acc: 0.3274 - f1_m: 0.1350 - precision_m: 0.6449 - recall_m: 0.0759 - val_loss: 1.8286 - val_acc: 0.2601 - val_f1_m: 0.0655 - val_precision_m: 0.2730 - val_recall_m: 0.0374\n",
            "Epoch 74/100\n",
            "5458/5458 [==============================] - 1s 163us/step - loss: 1.4455 - acc: 0.3248 - f1_m: 0.1360 - precision_m: 0.6378 - recall_m: 0.0766 - val_loss: 1.8124 - val_acc: 0.2571 - val_f1_m: 0.0668 - val_precision_m: 0.2786 - val_recall_m: 0.0381\n",
            "Epoch 75/100\n",
            "5458/5458 [==============================] - 1s 162us/step - loss: 1.4451 - acc: 0.3285 - f1_m: 0.1362 - precision_m: 0.6526 - recall_m: 0.0764 - val_loss: 1.8571 - val_acc: 0.2571 - val_f1_m: 0.0694 - val_precision_m: 0.2946 - val_recall_m: 0.0396\n",
            "Epoch 76/100\n",
            "5458/5458 [==============================] - 1s 162us/step - loss: 1.4451 - acc: 0.3267 - f1_m: 0.1360 - precision_m: 0.6498 - recall_m: 0.0766 - val_loss: 1.8726 - val_acc: 0.2549 - val_f1_m: 0.0668 - val_precision_m: 0.2831 - val_recall_m: 0.0381\n",
            "Epoch 77/100\n",
            "5458/5458 [==============================] - 1s 161us/step - loss: 1.4454 - acc: 0.3270 - f1_m: 0.1363 - precision_m: 0.6449 - recall_m: 0.0766 - val_loss: 1.8322 - val_acc: 0.2564 - val_f1_m: 0.0657 - val_precision_m: 0.2822 - val_recall_m: 0.0374\n",
            "Epoch 78/100\n",
            "5458/5458 [==============================] - 1s 161us/step - loss: 1.4454 - acc: 0.3269 - f1_m: 0.1376 - precision_m: 0.6508 - recall_m: 0.0773 - val_loss: 1.8281 - val_acc: 0.2593 - val_f1_m: 0.0683 - val_precision_m: 0.2962 - val_recall_m: 0.0388\n",
            "Epoch 79/100\n",
            "5458/5458 [==============================] - 1s 161us/step - loss: 1.4444 - acc: 0.3265 - f1_m: 0.1379 - precision_m: 0.6464 - recall_m: 0.0775 - val_loss: 1.8272 - val_acc: 0.2571 - val_f1_m: 0.0683 - val_precision_m: 0.2961 - val_recall_m: 0.0388\n",
            "Epoch 80/100\n",
            "5458/5458 [==============================] - 1s 161us/step - loss: 1.4450 - acc: 0.3274 - f1_m: 0.1382 - precision_m: 0.6614 - recall_m: 0.0779 - val_loss: 1.8341 - val_acc: 0.2593 - val_f1_m: 0.0669 - val_precision_m: 0.2906 - val_recall_m: 0.0381\n",
            "Epoch 81/100\n",
            "5458/5458 [==============================] - 1s 162us/step - loss: 1.4452 - acc: 0.3245 - f1_m: 0.1369 - precision_m: 0.6486 - recall_m: 0.0770 - val_loss: 1.8358 - val_acc: 0.2579 - val_f1_m: 0.0706 - val_precision_m: 0.2995 - val_recall_m: 0.0403\n",
            "Epoch 82/100\n",
            "5458/5458 [==============================] - 1s 161us/step - loss: 1.4453 - acc: 0.3219 - f1_m: 0.1369 - precision_m: 0.6467 - recall_m: 0.0770 - val_loss: 1.8683 - val_acc: 0.2571 - val_f1_m: 0.0729 - val_precision_m: 0.3005 - val_recall_m: 0.0418\n",
            "Epoch 83/100\n",
            "5458/5458 [==============================] - 1s 161us/step - loss: 1.4446 - acc: 0.3280 - f1_m: 0.1371 - precision_m: 0.6464 - recall_m: 0.0771 - val_loss: 1.8597 - val_acc: 0.2579 - val_f1_m: 0.0718 - val_precision_m: 0.2975 - val_recall_m: 0.0410\n",
            "Epoch 84/100\n",
            "5458/5458 [==============================] - 1s 161us/step - loss: 1.4447 - acc: 0.3232 - f1_m: 0.1368 - precision_m: 0.6547 - recall_m: 0.0770 - val_loss: 1.8816 - val_acc: 0.2586 - val_f1_m: 0.0754 - val_precision_m: 0.3043 - val_recall_m: 0.0432\n",
            "Epoch 85/100\n",
            "5458/5458 [==============================] - 1s 161us/step - loss: 1.4443 - acc: 0.3223 - f1_m: 0.1372 - precision_m: 0.6392 - recall_m: 0.0775 - val_loss: 1.8702 - val_acc: 0.2549 - val_f1_m: 0.0693 - val_precision_m: 0.2891 - val_recall_m: 0.0396\n",
            "Epoch 86/100\n",
            "5458/5458 [==============================] - 1s 161us/step - loss: 1.4444 - acc: 0.3276 - f1_m: 0.1368 - precision_m: 0.6534 - recall_m: 0.0768 - val_loss: 1.8698 - val_acc: 0.2557 - val_f1_m: 0.0706 - val_precision_m: 0.2929 - val_recall_m: 0.0403\n",
            "Epoch 87/100\n",
            "5458/5458 [==============================] - 1s 161us/step - loss: 1.4446 - acc: 0.3283 - f1_m: 0.1384 - precision_m: 0.6495 - recall_m: 0.0781 - val_loss: 1.8280 - val_acc: 0.2586 - val_f1_m: 0.0696 - val_precision_m: 0.3003 - val_recall_m: 0.0396\n",
            "Epoch 88/100\n",
            "5458/5458 [==============================] - 1s 161us/step - loss: 1.4442 - acc: 0.3285 - f1_m: 0.1346 - precision_m: 0.6457 - recall_m: 0.0757 - val_loss: 1.8593 - val_acc: 0.2549 - val_f1_m: 0.0705 - val_precision_m: 0.2932 - val_recall_m: 0.0403\n",
            "Epoch 89/100\n",
            "5458/5458 [==============================] - 1s 161us/step - loss: 1.4446 - acc: 0.3292 - f1_m: 0.1368 - precision_m: 0.6432 - recall_m: 0.0770 - val_loss: 1.8443 - val_acc: 0.2549 - val_f1_m: 0.0706 - val_precision_m: 0.2986 - val_recall_m: 0.0403\n",
            "Epoch 90/100\n",
            "5458/5458 [==============================] - 1s 161us/step - loss: 1.4441 - acc: 0.3250 - f1_m: 0.1364 - precision_m: 0.6580 - recall_m: 0.0766 - val_loss: 1.8454 - val_acc: 0.2579 - val_f1_m: 0.0695 - val_precision_m: 0.2987 - val_recall_m: 0.0396\n",
            "Epoch 91/100\n",
            "5458/5458 [==============================] - 1s 160us/step - loss: 1.4446 - acc: 0.3276 - f1_m: 0.1361 - precision_m: 0.6499 - recall_m: 0.0766 - val_loss: 1.8562 - val_acc: 0.2557 - val_f1_m: 0.0706 - val_precision_m: 0.2978 - val_recall_m: 0.0403\n",
            "Epoch 92/100\n",
            "5458/5458 [==============================] - 1s 160us/step - loss: 1.4440 - acc: 0.3274 - f1_m: 0.1381 - precision_m: 0.6461 - recall_m: 0.0779 - val_loss: 1.8400 - val_acc: 0.2564 - val_f1_m: 0.0719 - val_precision_m: 0.3029 - val_recall_m: 0.0410\n",
            "Epoch 93/100\n",
            "5458/5458 [==============================] - 1s 162us/step - loss: 1.4439 - acc: 0.3248 - f1_m: 0.1381 - precision_m: 0.6494 - recall_m: 0.0781 - val_loss: 1.8325 - val_acc: 0.2571 - val_f1_m: 0.0695 - val_precision_m: 0.2956 - val_recall_m: 0.0396\n",
            "Epoch 94/100\n",
            "5458/5458 [==============================] - 1s 163us/step - loss: 1.4438 - acc: 0.3270 - f1_m: 0.1368 - precision_m: 0.6477 - recall_m: 0.0768 - val_loss: 1.8488 - val_acc: 0.2586 - val_f1_m: 0.0708 - val_precision_m: 0.3049 - val_recall_m: 0.0403\n",
            "Epoch 95/100\n",
            "5458/5458 [==============================] - 1s 161us/step - loss: 1.4440 - acc: 0.3274 - f1_m: 0.1372 - precision_m: 0.6418 - recall_m: 0.0773 - val_loss: 1.8640 - val_acc: 0.2535 - val_f1_m: 0.0679 - val_precision_m: 0.2777 - val_recall_m: 0.0388\n",
            "Epoch 96/100\n",
            "5458/5458 [==============================] - 1s 162us/step - loss: 1.4434 - acc: 0.3278 - f1_m: 0.1391 - precision_m: 0.6520 - recall_m: 0.0784 - val_loss: 1.8431 - val_acc: 0.2549 - val_f1_m: 0.0707 - val_precision_m: 0.3016 - val_recall_m: 0.0403\n",
            "Epoch 97/100\n",
            "5458/5458 [==============================] - 1s 161us/step - loss: 1.4446 - acc: 0.3292 - f1_m: 0.1373 - precision_m: 0.6464 - recall_m: 0.0773 - val_loss: 1.8179 - val_acc: 0.2586 - val_f1_m: 0.0631 - val_precision_m: 0.2690 - val_recall_m: 0.0359\n",
            "Epoch 98/100\n",
            "5458/5458 [==============================] - 1s 161us/step - loss: 1.4437 - acc: 0.3272 - f1_m: 0.1349 - precision_m: 0.6350 - recall_m: 0.0759 - val_loss: 1.8340 - val_acc: 0.2571 - val_f1_m: 0.0696 - val_precision_m: 0.3003 - val_recall_m: 0.0396\n",
            "Epoch 99/100\n",
            "5458/5458 [==============================] - 1s 161us/step - loss: 1.4436 - acc: 0.3259 - f1_m: 0.1388 - precision_m: 0.6503 - recall_m: 0.0781 - val_loss: 1.8583 - val_acc: 0.2601 - val_f1_m: 0.0708 - val_precision_m: 0.3099 - val_recall_m: 0.0403\n",
            "Epoch 100/100\n",
            "5458/5458 [==============================] - 1s 162us/step - loss: 1.4441 - acc: 0.3263 - f1_m: 0.1387 - precision_m: 0.6476 - recall_m: 0.0781 - val_loss: 1.8439 - val_acc: 0.2564 - val_f1_m: 0.0656 - val_precision_m: 0.2750 - val_recall_m: 0.0374\n"
          ],
          "name": "stdout"
        }
      ]
    },
    {
      "cell_type": "code",
      "metadata": {
        "id": "fZW5b5ECkWlp",
        "colab_type": "code",
        "colab": {}
      },
      "source": [
        "preds = model.predict_classes(X_test, verbose=0)"
      ],
      "execution_count": 0,
      "outputs": []
    },
    {
      "cell_type": "code",
      "metadata": {
        "id": "xhkTt8YDvird",
        "colab_type": "code",
        "outputId": "8b7a55cd-f086-4bf0-bfb7-6b76b6370e6b",
        "colab": {
          "base_uri": "https://localhost:8080/",
          "height": 1000
        }
      },
      "source": [
        "#Plotting Graphs\n",
        "import matplotlib.pyplot as plt\n",
        "\n",
        "plt.plot(history.history['acc'])\n",
        "plt.plot(history.history['val_acc'])\n",
        "\n",
        "plt.title('Model Accuracy')\n",
        "plt.ylabel('Accuracy')\n",
        "plt.xlabel('Epoch')\n",
        "plt.legend(['train','test'], loc = 'upper left')\n",
        "plt.show()\n",
        "\n",
        "plt.plot(history.history['loss'])\n",
        "plt.plot(history.history['val_loss'])\n",
        "\n",
        "plt.title('Model loss')\n",
        "plt.ylabel('loss')\n",
        "plt.xlabel('epoch')\n",
        "plt.legend(['train','test'], loc = 'upper left')\n",
        "plt.show()\n",
        "\n",
        "plt.plot(history.history['f1_m'])\n",
        "plt.plot(history.history['val_f1_m'])\n",
        "\n",
        "plt.title('Model F1 Score')\n",
        "plt.ylabel('F1 Score')\n",
        "plt.xlabel('Epoch')\n",
        "plt.legend(['train','test'], loc = 'upper left')\n",
        "plt.show()\n",
        "\n",
        "plt.plot(history.history['precision_m'])\n",
        "plt.plot(history.history['val_precision_m'])\n",
        "\n",
        "plt.title('Model Precision')\n",
        "plt.ylabel('Precision')\n",
        "plt.xlabel('Epoch')\n",
        "plt.legend(['train','test'], loc = 'upper left')\n",
        "plt.show()\n",
        "\n",
        "plt.plot(history.history['recall_m'])\n",
        "plt.plot(history.history['val_recall_m'])\n",
        "\n",
        "plt.title('Model Recall')\n",
        "plt.ylabel('Recall')\n",
        "plt.xlabel('Epoch')\n",
        "plt.legend(['train','test'], loc = 'upper left')\n",
        "plt.show()"
      ],
      "execution_count": 29,
      "outputs": [
        {
          "output_type": "display_data",
          "data": {
            "image/png": "[encoded data removed]",
            "text/plain": [
              "<Figure size 432x288 with 1 Axes>"
            ]
          },
          "metadata": {
            "tags": []
          }
        },
        {
          "output_type": "display_data",
          "data": {
            "image/png": "[encoded data removed]",
            "text/plain": [
              "<Figure size 432x288 with 1 Axes>"
            ]
          },
          "metadata": {
            "tags": []
          }
        },
        {
          "output_type": "display_data",
          "data": {
            "image/png": "[encoded data removed]",
            "text/plain": [
              "<Figure size 432x288 with 1 Axes>"
            ]
          },
          "metadata": {
            "tags": []
          }
        },
        {
          "output_type": "display_data",
          "data": {
            "image/png": "[encoded data removed]",
            "text/plain": [
              "<Figure size 432x288 with 1 Axes>"
            ]
          },
          "metadata": {
            "tags": []
          }
        },
        {
          "output_type": "display_data",
          "data": {
            "image/png": "[encoded data removed]",
            "text/plain": [
              "<Figure size 432x288 with 1 Axes>"
            ]
          },
          "metadata": {
            "tags": []
          }
        }
      ]
    },
    {
      "cell_type": "code",
      "metadata": {
        "id": "lpRNElwSuOm6",
        "colab_type": "code",
        "colab": {}
      },
      "source": [
        "preds = model.predict_classes(X_test, verbose=0)"
      ],
      "execution_count": 0,
      "outputs": []
    },
    {
      "cell_type": "code",
      "metadata": {
        "id": "I-dneQ9OuUg6",
        "colab_type": "code",
        "outputId": "ec11dd53-255b-4cca-ebf2-d6cb06f8daa4",
        "colab": {
          "base_uri": "https://localhost:8080/",
          "height": 337
        }
      },
      "source": [
        "from sklearn.metrics import classification_report\n",
        "\n",
        "print(classification_report(X_train, Y_test))"
      ],
      "execution_count": 0,
      "outputs": [
        {
          "output_type": "error",
          "ename": "ValueError",
          "evalue": "ignored",
          "traceback": [
            "\u001b[0;31m---------------------------------------------------------------------------\u001b[0m",
            "\u001b[0;31mValueError\u001b[0m                                Traceback (most recent call last)",
            "\u001b[0;32m<ipython-input-29-3aaf24d3b28f>\u001b[0m in \u001b[0;36m<module>\u001b[0;34m()\u001b[0m\n\u001b[1;32m      1\u001b[0m \u001b[0;32mfrom\u001b[0m \u001b[0msklearn\u001b[0m\u001b[0;34m.\u001b[0m\u001b[0mmetrics\u001b[0m \u001b[0;32mimport\u001b[0m \u001b[0mclassification_report\u001b[0m\u001b[0;34m\u001b[0m\u001b[0;34m\u001b[0m\u001b[0m\n\u001b[1;32m      2\u001b[0m \u001b[0;34m\u001b[0m\u001b[0m\n\u001b[0;32m----> 3\u001b[0;31m \u001b[0mprint\u001b[0m\u001b[0;34m(\u001b[0m\u001b[0mclassification_report\u001b[0m\u001b[0;34m(\u001b[0m\u001b[0mX_train\u001b[0m\u001b[0;34m,\u001b[0m \u001b[0mY_test\u001b[0m\u001b[0;34m)\u001b[0m\u001b[0;34m)\u001b[0m\u001b[0;34m\u001b[0m\u001b[0;34m\u001b[0m\u001b[0m\n\u001b[0m",
            "\u001b[0;32m/usr/local/lib/python3.6/dist-packages/sklearn/metrics/classification.py\u001b[0m in \u001b[0;36mclassification_report\u001b[0;34m(y_true, y_pred, labels, target_names, sample_weight, digits, output_dict)\u001b[0m\n\u001b[1;32m   1850\u001b[0m     \"\"\"\n\u001b[1;32m   1851\u001b[0m \u001b[0;34m\u001b[0m\u001b[0m\n\u001b[0;32m-> 1852\u001b[0;31m     \u001b[0my_type\u001b[0m\u001b[0;34m,\u001b[0m \u001b[0my_true\u001b[0m\u001b[0;34m,\u001b[0m \u001b[0my_pred\u001b[0m \u001b[0;34m=\u001b[0m \u001b[0m_check_targets\u001b[0m\u001b[0;34m(\u001b[0m\u001b[0my_true\u001b[0m\u001b[0;34m,\u001b[0m \u001b[0my_pred\u001b[0m\u001b[0;34m)\u001b[0m\u001b[0;34m\u001b[0m\u001b[0;34m\u001b[0m\u001b[0m\n\u001b[0m\u001b[1;32m   1853\u001b[0m \u001b[0;34m\u001b[0m\u001b[0m\n\u001b[1;32m   1854\u001b[0m     \u001b[0mlabels_given\u001b[0m \u001b[0;34m=\u001b[0m \u001b[0;32mTrue\u001b[0m\u001b[0;34m\u001b[0m\u001b[0;34m\u001b[0m\u001b[0m\n",
            "\u001b[0;32m/usr/local/lib/python3.6/dist-packages/sklearn/metrics/classification.py\u001b[0m in \u001b[0;36m_check_targets\u001b[0;34m(y_true, y_pred)\u001b[0m\n\u001b[1;32m     69\u001b[0m     \u001b[0my_pred\u001b[0m \u001b[0;34m:\u001b[0m \u001b[0marray\u001b[0m \u001b[0;32mor\u001b[0m \u001b[0mindicator\u001b[0m \u001b[0mmatrix\u001b[0m\u001b[0;34m\u001b[0m\u001b[0;34m\u001b[0m\u001b[0m\n\u001b[1;32m     70\u001b[0m     \"\"\"\n\u001b[0;32m---> 71\u001b[0;31m     \u001b[0mcheck_consistent_length\u001b[0m\u001b[0;34m(\u001b[0m\u001b[0my_true\u001b[0m\u001b[0;34m,\u001b[0m \u001b[0my_pred\u001b[0m\u001b[0;34m)\u001b[0m\u001b[0;34m\u001b[0m\u001b[0;34m\u001b[0m\u001b[0m\n\u001b[0m\u001b[1;32m     72\u001b[0m     \u001b[0mtype_true\u001b[0m \u001b[0;34m=\u001b[0m \u001b[0mtype_of_target\u001b[0m\u001b[0;34m(\u001b[0m\u001b[0my_true\u001b[0m\u001b[0;34m)\u001b[0m\u001b[0;34m\u001b[0m\u001b[0;34m\u001b[0m\u001b[0m\n\u001b[1;32m     73\u001b[0m     \u001b[0mtype_pred\u001b[0m \u001b[0;34m=\u001b[0m \u001b[0mtype_of_target\u001b[0m\u001b[0;34m(\u001b[0m\u001b[0my_pred\u001b[0m\u001b[0;34m)\u001b[0m\u001b[0;34m\u001b[0m\u001b[0;34m\u001b[0m\u001b[0m\n",
            "\u001b[0;32m/usr/local/lib/python3.6/dist-packages/sklearn/utils/validation.py\u001b[0m in \u001b[0;36mcheck_consistent_length\u001b[0;34m(*arrays)\u001b[0m\n\u001b[1;32m    203\u001b[0m     \u001b[0;32mif\u001b[0m \u001b[0mlen\u001b[0m\u001b[0;34m(\u001b[0m\u001b[0muniques\u001b[0m\u001b[0;34m)\u001b[0m \u001b[0;34m>\u001b[0m \u001b[0;36m1\u001b[0m\u001b[0;34m:\u001b[0m\u001b[0;34m\u001b[0m\u001b[0;34m\u001b[0m\u001b[0m\n\u001b[1;32m    204\u001b[0m         raise ValueError(\"Found input variables with inconsistent numbers of\"\n\u001b[0;32m--> 205\u001b[0;31m                          \" samples: %r\" % [int(l) for l in lengths])\n\u001b[0m\u001b[1;32m    206\u001b[0m \u001b[0;34m\u001b[0m\u001b[0m\n\u001b[1;32m    207\u001b[0m \u001b[0;34m\u001b[0m\u001b[0m\n",
            "\u001b[0;31mValueError\u001b[0m: Found input variables with inconsistent numbers of samples: [6823, 1706]"
          ]
        }
      ]
    }
  ]
}